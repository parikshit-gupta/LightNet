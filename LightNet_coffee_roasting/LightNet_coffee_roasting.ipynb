{
 "cells": [
  {
   "cell_type": "markdown",
   "metadata": {},
   "source": [
    "## **Testing LightNet using Coffee roasting dataset**"
   ]
  },
  {
   "cell_type": "markdown",
   "metadata": {},
   "source": [
    "#### We'll be testing LightNet using the coffee roasting example."
   ]
  },
  {
   "cell_type": "markdown",
   "metadata": {},
   "source": [
    "#### \"The results show that **LightNet** is able to reproduce results expected of a neural network quite well with a score of .965 on the testing set.\""
   ]
  },
  {
   "cell_type": "code",
   "execution_count": 1,
   "metadata": {},
   "outputs": [],
   "source": [
    "import sys\n",
    "sys.path.append(\"D:\\Development\\Machine_Learning\\ML_Algorithms\\coursera-2\\Week-2\\Computational_graphs\")"
   ]
  },
  {
   "cell_type": "code",
   "execution_count": 2,
   "metadata": {},
   "outputs": [],
   "source": [
    "import LightNet as ln\n",
    "import numpy as np\n",
    "import matplotlib.pyplot as plt\n",
    "from tensorflow.keras.layers import Normalization\n",
    "import lab_coffee_utils as lcu"
   ]
  },
  {
   "cell_type": "markdown",
   "metadata": {},
   "source": [
    "#### Loading the coffee roating dataset and visualising it"
   ]
  },
  {
   "cell_type": "code",
   "execution_count": 3,
   "metadata": {},
   "outputs": [
    {
     "name": "stdout",
     "output_type": "stream",
     "text": [
      "(200, 2) (200, 1)\n"
     ]
    }
   ],
   "source": [
    "X,Y=lcu.load_coffee_data()\n",
    "print(X.shape, Y.shape)\n",
    "\n",
    "# X is the input array, while Y is the output array \n",
    "# X[0] is the temprature, X[1] is the duration"
   ]
  },
  {
   "cell_type": "code",
   "execution_count": 4,
   "metadata": {},
   "outputs": [
    {
     "data": {
      "image/png": "[encoded data removed]",
      "text/plain": [
       "<Figure size 640x480 with 1 Axes>"
      ]
     },
     "metadata": {},
     "output_type": "display_data"
    }
   ],
   "source": [
    "plt.scatter(X[Y[:,0]==1,0], X[Y[:,0]==1,1], marker='X', color='b', linewidths=.1, s=50)\n",
    "plt.scatter(X[Y[:,0]==0,0], X[Y[:,0]==0,1], marker='o', color='r', linewidths=.1, s=50)\n",
    "plt.show()"
   ]
  },
  {
   "cell_type": "markdown",
   "metadata": {},
   "source": [
    "#### Normalising and tiling the dataset"
   ]
  },
  {
   "cell_type": "code",
   "execution_count": 5,
   "metadata": {},
   "outputs": [],
   "source": [
    "norm=Normalization(axis=1) # norm is the normalisation layer object\n",
    "norm.adapt(X) # adapt function calculates the value of mean and variance of each column(axis is set to be 0)\n",
    "Xn=norm(X)"
   ]
  },
  {
   "cell_type": "code",
   "execution_count": 6,
   "metadata": {},
   "outputs": [],
   "source": [
    "Xt=np.tile(Xn,(100,1))\n",
    "Yt=np.tile(Y, (100,1))"
   ]
  },
  {
   "cell_type": "markdown",
   "metadata": {},
   "source": [
    "#### Building the model"
   ]
  },
  {
   "cell_type": "code",
   "execution_count": 7,
   "metadata": {},
   "outputs": [],
   "source": [
    "model=ln.Network([(2,),\n",
    "                  ln.Layer(units=3, activation='sigmoid', label='L1'),\n",
    "                  ln.Layer(units=1, activation='sigmoid', label='L2')])"
   ]
  },
  {
   "cell_type": "code",
   "execution_count": 8,
   "metadata": {},
   "outputs": [
    {
     "name": "stdout",
     "output_type": "stream",
     "text": [
      "L1\n",
      "Weights: \n",
      "[[-0.15687255 -0.40326059  0.58180577]\n",
      " [ 0.7239478   0.29797919 -1.17988963]\n",
      " [ 0.41029027 -0.29782651 -0.34851784]]\n",
      "L2\n",
      "Weights: \n",
      "[[-1.22399158  0.21121873  0.08630595 -1.25344088]]\n"
     ]
    }
   ],
   "source": [
    "model.get_weights()     #weights before training(initialised wieghts)"
   ]
  },
  {
   "cell_type": "code",
   "execution_count": 9,
   "metadata": {},
   "outputs": [],
   "source": [
    "model.train(Xt, Yt, 30, .01)"
   ]
  },
  {
   "cell_type": "code",
   "execution_count": 10,
   "metadata": {},
   "outputs": [
    {
     "name": "stdout",
     "output_type": "stream",
     "text": [
      "Node: data=[0.7901], label='I: L3', op='['buf']'\n",
      "Node: data=[0.0006], label='I: L3', op='['buf']'\n"
     ]
    }
   ],
   "source": [
    "X_test = np.array([[200,13.9],[200,17]])\n",
    "X_testn=norm(X_test) #normalising the test data\n",
    "a1=model(X_testn[0])\n",
    "a2=model(X_testn[1])\n",
    "print(a1)   #expected output 1\n",
    "print(a2)   #expected output 0"
   ]
  },
  {
   "cell_type": "code",
   "execution_count": 11,
   "metadata": {},
   "outputs": [
    {
     "name": "stdout",
     "output_type": "stream",
     "text": [
      "L1\n",
      "Weights: \n",
      "[[10.13386302  8.56758055  0.84814919]\n",
      " [ 0.46498658 -7.31849539 -9.35117843]\n",
      " [ 8.97422664  0.03782033  9.60702517]]\n",
      "L2\n",
      "Weights: \n",
      "[[-15.13776494 -12.936358    13.78156075  -6.0370046 ]]\n"
     ]
    }
   ],
   "source": [
    "model.get_weights()     #weights after training"
   ]
  },
  {
   "cell_type": "code",
   "execution_count": 12,
   "metadata": {},
   "outputs": [
    {
     "data": {
      "image/svg+xml": [
       "<?xml version=\"1.0\" encoding=\"UTF-8\" standalone=\"no\"?>\n",
       "<!DOCTYPE svg PUBLIC \"-//W3C//DTD SVG 1.1//EN\"\n",
       " \"http://www.w3.org/Graphics/SVG/1.1/DTD/svg11.dtd\">\n",
       "<!-- Generated by graphviz version 12.1.0 (20240811.2233)\n",
       " -->\n",
       "<!-- Title: Comp_graph Pages: 1 -->\n",
       "<svg width=\"1798pt\" height=\"362pt\"\n",
       " viewBox=\"0.00 0.00 1797.54 361.50\" xmlns=\"http://www.w3.org/2000/svg\" xmlns:xlink=\"http://www.w3.org/1999/xlink\">\n",
       "<g id=\"graph0\" class=\"graph\" transform=\"scale(1 1) rotate(0) translate(4 357.5)\">\n",
       "<title>Comp_graph</title>\n",
       "<polygon fill=\"white\" stroke=\"none\" points=\"-4,4 -4,-357.5 1793.54,-357.5 1793.54,4 -4,4\"/>\n",
       "<!-- 2236072070832 -->\n",
       "<g id=\"node1\" class=\"node\">\n",
       "<title>2236072070832</title>\n",
       "<polygon fill=\"none\" stroke=\"black\" points=\"1695.54,-185.5 1695.54,-259 1789.54,-259 1789.54,-185.5 1695.54,-185.5\"/>\n",
       "<text text-anchor=\"middle\" x=\"1742.54\" y=\"-241.7\" font-family=\"Times New Roman,serif\" font-size=\"14.00\">I: L3</text>\n",
       "<polyline fill=\"none\" stroke=\"black\" points=\"1695.54,-234.5 1789.54,-234.5\"/>\n",
       "<text text-anchor=\"middle\" x=\"1742.54\" y=\"-217.2\" font-family=\"Times New Roman,serif\" font-size=\"14.00\">data: [0.0006]</text>\n",
       "<polyline fill=\"none\" stroke=\"black\" points=\"1695.54,-210 1789.54,-210\"/>\n",
       "<text text-anchor=\"middle\" x=\"1742.54\" y=\"-192.7\" font-family=\"Times New Roman,serif\" font-size=\"14.00\">grad: [0.0000]</text>\n",
       "</g>\n",
       "<!-- 2236072167296 -->\n",
       "<g id=\"node2\" class=\"node\">\n",
       "<title>2236072167296</title>\n",
       "<ellipse fill=\"none\" stroke=\"black\" cx=\"1627.12\" cy=\"-222.25\" rx=\"32.41\" ry=\"18\"/>\n",
       "<text text-anchor=\"middle\" x=\"1627.12\" y=\"-217.2\" font-family=\"Times New Roman,serif\" font-size=\"14.00\">[&#39;buf&#39;]</text>\n",
       "</g>\n",
       "<!-- 2236072167296&#45;&gt;2236072070832 -->\n",
       "<g id=\"edge1\" class=\"edge\">\n",
       "<title>2236072167296&#45;&gt;2236072070832</title>\n",
       "<path fill=\"none\" stroke=\"black\" d=\"M1660.01,-222.25C1667.41,-222.25 1675.5,-222.25 1683.63,-222.25\"/>\n",
       "<polygon fill=\"black\" stroke=\"black\" points=\"1683.55,-225.75 1693.55,-222.25 1683.55,-218.75 1683.55,-225.75\"/>\n",
       "</g>\n",
       "<!-- 2236072068240 -->\n",
       "<g id=\"node3\" class=\"node\">\n",
       "<title>2236072068240</title>\n",
       "<polygon fill=\"none\" stroke=\"black\" points=\"1473.71,-185.5 1473.71,-259 1558.71,-259 1558.71,-185.5 1473.71,-185.5\"/>\n",
       "<text text-anchor=\"middle\" x=\"1516.21\" y=\"-241.7\" font-family=\"Times New Roman,serif\" font-size=\"14.00\">S: L2, N0</text>\n",
       "<polyline fill=\"none\" stroke=\"black\" points=\"1473.71,-234.5 1558.71,-234.5\"/>\n",
       "<text text-anchor=\"middle\" x=\"1516.21\" y=\"-217.2\" font-family=\"Times New Roman,serif\" font-size=\"14.00\">data: 0.0006</text>\n",
       "<polyline fill=\"none\" stroke=\"black\" points=\"1473.71,-210 1558.71,-210\"/>\n",
       "<text text-anchor=\"middle\" x=\"1516.21\" y=\"-192.7\" font-family=\"Times New Roman,serif\" font-size=\"14.00\">grad: 0.0000</text>\n",
       "</g>\n",
       "<!-- 2236072068240&#45;&gt;2236072167296 -->\n",
       "<g id=\"edge2\" class=\"edge\">\n",
       "<title>2236072068240&#45;&gt;2236072167296</title>\n",
       "<path fill=\"none\" stroke=\"black\" d=\"M1559,-222.25C1566.9,-222.25 1575.18,-222.25 1583.12,-222.25\"/>\n",
       "<polygon fill=\"black\" stroke=\"black\" points=\"1582.9,-225.75 1592.9,-222.25 1582.9,-218.75 1582.9,-225.75\"/>\n",
       "</g>\n",
       "<!-- 2236072007872 -->\n",
       "<g id=\"node4\" class=\"node\">\n",
       "<title>2236072007872</title>\n",
       "<ellipse fill=\"none\" stroke=\"black\" cx=\"1406.83\" cy=\"-222.25\" rx=\"30.88\" ry=\"18\"/>\n",
       "<text text-anchor=\"middle\" x=\"1406.83\" y=\"-217.2\" font-family=\"Times New Roman,serif\" font-size=\"14.00\">[&#39;sig&#39;]</text>\n",
       "</g>\n",
       "<!-- 2236072007872&#45;&gt;2236072068240 -->\n",
       "<g id=\"edge3\" class=\"edge\">\n",
       "<title>2236072007872&#45;&gt;2236072068240</title>\n",
       "<path fill=\"none\" stroke=\"black\" d=\"M1438.02,-222.25C1445.44,-222.25 1453.61,-222.25 1461.77,-222.25\"/>\n",
       "<polygon fill=\"black\" stroke=\"black\" points=\"1461.71,-225.75 1471.71,-222.25 1461.71,-218.75 1461.71,-225.75\"/>\n",
       "</g>\n",
       "<!-- 2236072068288 -->\n",
       "<g id=\"node5\" class=\"node\">\n",
       "<title>2236072068288</title>\n",
       "<polygon fill=\"none\" stroke=\"black\" points=\"1251.95,-185.5 1251.95,-259 1339.95,-259 1339.95,-185.5 1251.95,-185.5\"/>\n",
       "<text text-anchor=\"middle\" x=\"1295.95\" y=\"-241.7\" font-family=\"Times New Roman,serif\" font-size=\"14.00\">D: L2, N0</text>\n",
       "<polyline fill=\"none\" stroke=\"black\" points=\"1251.95,-234.5 1339.95,-234.5\"/>\n",
       "<text text-anchor=\"middle\" x=\"1295.95\" y=\"-217.2\" font-family=\"Times New Roman,serif\" font-size=\"14.00\">data: &#45;7.4474</text>\n",
       "<polyline fill=\"none\" stroke=\"black\" points=\"1251.95,-210 1339.95,-210\"/>\n",
       "<text text-anchor=\"middle\" x=\"1295.95\" y=\"-192.7\" font-family=\"Times New Roman,serif\" font-size=\"14.00\">grad: 0.0000</text>\n",
       "</g>\n",
       "<!-- 2236072068288&#45;&gt;2236072007872 -->\n",
       "<g id=\"edge4\" class=\"edge\">\n",
       "<title>2236072068288&#45;&gt;2236072007872</title>\n",
       "<path fill=\"none\" stroke=\"black\" d=\"M1340.29,-222.25C1348.17,-222.25 1356.37,-222.25 1364.19,-222.25\"/>\n",
       "<polygon fill=\"black\" stroke=\"black\" points=\"1364.18,-225.75 1374.18,-222.25 1364.18,-218.75 1364.18,-225.75\"/>\n",
       "</g>\n",
       "<!-- 2236071696768 -->\n",
       "<g id=\"node6\" class=\"node\">\n",
       "<title>2236071696768</title>\n",
       "<ellipse fill=\"none\" stroke=\"black\" cx=\"1184.05\" cy=\"-222.25\" rx=\"31.9\" ry=\"18\"/>\n",
       "<text text-anchor=\"middle\" x=\"1184.05\" y=\"-217.2\" font-family=\"Times New Roman,serif\" font-size=\"14.00\">[&#39;dot&#39;]</text>\n",
       "</g>\n",
       "<!-- 2236071696768&#45;&gt;2236072068288 -->\n",
       "<g id=\"edge5\" class=\"edge\">\n",
       "<title>2236071696768&#45;&gt;2236072068288</title>\n",
       "<path fill=\"none\" stroke=\"black\" d=\"M1216.25,-222.25C1223.84,-222.25 1232.18,-222.25 1240.5,-222.25\"/>\n",
       "<polygon fill=\"black\" stroke=\"black\" points=\"1240.26,-225.75 1250.26,-222.25 1240.26,-218.75 1240.26,-225.75\"/>\n",
       "</g>\n",
       "<!-- 2236070445456 -->\n",
       "<g id=\"node7\" class=\"node\">\n",
       "<title>2236070445456</title>\n",
       "<polygon fill=\"none\" stroke=\"black\" points=\"831.27,-232.5 831.27,-306 1081.27,-306 1081.27,-232.5 831.27,-232.5\"/>\n",
       "<text text-anchor=\"middle\" x=\"956.27\" y=\"-288.7\" font-family=\"Times New Roman,serif\" font-size=\"14.00\">W: L2, N0</text>\n",
       "<polyline fill=\"none\" stroke=\"black\" points=\"831.27,-281.5 1081.27,-281.5\"/>\n",
       "<text text-anchor=\"middle\" x=\"956.27\" y=\"-264.2\" font-family=\"Times New Roman,serif\" font-size=\"14.00\">data: [&#45;15.1378 &#45;12.9364 13.7816 &#45;6.0370]</text>\n",
       "<polyline fill=\"none\" stroke=\"black\" points=\"831.27,-257 1081.27,-257\"/>\n",
       "<text text-anchor=\"middle\" x=\"956.27\" y=\"-239.7\" font-family=\"Times New Roman,serif\" font-size=\"14.00\">grad: [0.0000 0.0000 0.0000 0.0000]</text>\n",
       "</g>\n",
       "<!-- 2236070445456&#45;&gt;2236071696768 -->\n",
       "<g id=\"edge6\" class=\"edge\">\n",
       "<title>2236070445456&#45;&gt;2236071696768</title>\n",
       "<path fill=\"none\" stroke=\"black\" d=\"M1081.71,-243.34C1103.85,-238.74 1125.39,-234.25 1142.88,-230.61\"/>\n",
       "<polygon fill=\"black\" stroke=\"black\" points=\"1143.19,-234.12 1152.27,-228.66 1141.76,-227.27 1143.19,-234.12\"/>\n",
       "</g>\n",
       "<!-- 2236071875920 -->\n",
       "<g id=\"node8\" class=\"node\">\n",
       "<title>2236071875920</title>\n",
       "<polygon fill=\"none\" stroke=\"black\" points=\"796.39,-139.5 796.39,-213 1116.14,-213 1116.14,-139.5 796.39,-139.5\"/>\n",
       "<text text-anchor=\"middle\" x=\"956.27\" y=\"-195.7\" font-family=\"Times New Roman,serif\" font-size=\"14.00\">I: L2</text>\n",
       "<polyline fill=\"none\" stroke=\"black\" points=\"796.39,-188.5 1116.14,-188.5\"/>\n",
       "<text text-anchor=\"middle\" x=\"956.27\" y=\"-171.2\" font-family=\"Times New Roman,serif\" font-size=\"14.00\">data: [1.0000e+00 6.1788e&#45;15 9.9607e&#45;01 1.0000e+00]</text>\n",
       "<polyline fill=\"none\" stroke=\"black\" points=\"796.39,-164 1116.14,-164\"/>\n",
       "<text text-anchor=\"middle\" x=\"956.27\" y=\"-146.7\" font-family=\"Times New Roman,serif\" font-size=\"14.00\">grad: [0.0000 0.0000 0.0000 0.0000]</text>\n",
       "</g>\n",
       "<!-- 2236071875920&#45;&gt;2236071696768 -->\n",
       "<g id=\"edge7\" class=\"edge\">\n",
       "<title>2236071875920&#45;&gt;2236071696768</title>\n",
       "<path fill=\"none\" stroke=\"black\" d=\"M1116.53,-208.7C1125.84,-210.6 1134.65,-212.39 1142.62,-214.01\"/>\n",
       "<polygon fill=\"black\" stroke=\"black\" points=\"1141.68,-217.39 1152.18,-215.96 1143.08,-210.53 1141.68,-217.39\"/>\n",
       "</g>\n",
       "<!-- 2236072348736 -->\n",
       "<g id=\"node9\" class=\"node\">\n",
       "<title>2236072348736</title>\n",
       "<ellipse fill=\"none\" stroke=\"black\" cx=\"727.98\" cy=\"-176.25\" rx=\"32.41\" ry=\"18\"/>\n",
       "<text text-anchor=\"middle\" x=\"727.98\" y=\"-171.2\" font-family=\"Times New Roman,serif\" font-size=\"14.00\">[&#39;buf&#39;]</text>\n",
       "</g>\n",
       "<!-- 2236072348736&#45;&gt;2236071875920 -->\n",
       "<g id=\"edge8\" class=\"edge\">\n",
       "<title>2236072348736&#45;&gt;2236071875920</title>\n",
       "<path fill=\"none\" stroke=\"black\" d=\"M760.44,-176.25C767.78,-176.25 776.1,-176.25 785.07,-176.25\"/>\n",
       "<polygon fill=\"black\" stroke=\"black\" points=\"784.79,-179.75 794.79,-176.25 784.79,-172.75 784.79,-179.75\"/>\n",
       "</g>\n",
       "<!-- 2236071876448 -->\n",
       "<g id=\"node10\" class=\"node\">\n",
       "<title>2236071876448</title>\n",
       "<polygon fill=\"none\" stroke=\"black\" points=\"563.31,-232.5 563.31,-306 648.31,-306 648.31,-232.5 563.31,-232.5\"/>\n",
       "<text text-anchor=\"middle\" x=\"605.81\" y=\"-288.7\" font-family=\"Times New Roman,serif\" font-size=\"14.00\">S: L1, N0</text>\n",
       "<polyline fill=\"none\" stroke=\"black\" points=\"563.31,-281.5 648.31,-281.5\"/>\n",
       "<text text-anchor=\"middle\" x=\"605.81\" y=\"-264.2\" font-family=\"Times New Roman,serif\" font-size=\"14.00\">data: 1.0000</text>\n",
       "<polyline fill=\"none\" stroke=\"black\" points=\"563.31,-257 648.31,-257\"/>\n",
       "<text text-anchor=\"middle\" x=\"605.81\" y=\"-239.7\" font-family=\"Times New Roman,serif\" font-size=\"14.00\">grad: 0.0000</text>\n",
       "</g>\n",
       "<!-- 2236071876448&#45;&gt;2236072348736 -->\n",
       "<g id=\"edge9\" class=\"edge\">\n",
       "<title>2236071876448&#45;&gt;2236072348736</title>\n",
       "<path fill=\"none\" stroke=\"black\" d=\"M648.5,-236.98C665.34,-223.95 684.32,-209.27 699.39,-197.6\"/>\n",
       "<polygon fill=\"black\" stroke=\"black\" points=\"701.25,-200.58 707.02,-191.7 696.97,-195.05 701.25,-200.58\"/>\n",
       "</g>\n",
       "<!-- 2236075013440 -->\n",
       "<g id=\"node11\" class=\"node\">\n",
       "<title>2236075013440</title>\n",
       "<ellipse fill=\"none\" stroke=\"black\" cx=\"485.18\" cy=\"-269.25\" rx=\"30.88\" ry=\"18\"/>\n",
       "<text text-anchor=\"middle\" x=\"485.18\" y=\"-264.2\" font-family=\"Times New Roman,serif\" font-size=\"14.00\">[&#39;sig&#39;]</text>\n",
       "</g>\n",
       "<!-- 2236075013440&#45;&gt;2236071876448 -->\n",
       "<g id=\"edge10\" class=\"edge\">\n",
       "<title>2236075013440&#45;&gt;2236071876448</title>\n",
       "<path fill=\"none\" stroke=\"black\" d=\"M516.43,-269.25C527.14,-269.25 539.54,-269.25 551.6,-269.25\"/>\n",
       "<polygon fill=\"black\" stroke=\"black\" points=\"551.48,-272.75 561.48,-269.25 551.48,-265.75 551.48,-272.75\"/>\n",
       "</g>\n",
       "<!-- 2236071877648 -->\n",
       "<g id=\"node12\" class=\"node\">\n",
       "<title>2236071877648</title>\n",
       "<polygon fill=\"none\" stroke=\"black\" points=\"325.81,-232.5 325.81,-306 416.06,-306 416.06,-232.5 325.81,-232.5\"/>\n",
       "<text text-anchor=\"middle\" x=\"370.93\" y=\"-288.7\" font-family=\"Times New Roman,serif\" font-size=\"14.00\">D: L1, N0</text>\n",
       "<polyline fill=\"none\" stroke=\"black\" points=\"325.81,-281.5 416.06,-281.5\"/>\n",
       "<text text-anchor=\"middle\" x=\"370.93\" y=\"-264.2\" font-family=\"Times New Roman,serif\" font-size=\"14.00\">data: 23.2144</text>\n",
       "<polyline fill=\"none\" stroke=\"black\" points=\"325.81,-257 416.06,-257\"/>\n",
       "<text text-anchor=\"middle\" x=\"370.93\" y=\"-239.7\" font-family=\"Times New Roman,serif\" font-size=\"14.00\">grad: 0.0000</text>\n",
       "</g>\n",
       "<!-- 2236071877648&#45;&gt;2236075013440 -->\n",
       "<g id=\"edge11\" class=\"edge\">\n",
       "<title>2236071877648&#45;&gt;2236075013440</title>\n",
       "<path fill=\"none\" stroke=\"black\" d=\"M416.3,-269.25C424.98,-269.25 434.05,-269.25 442.63,-269.25\"/>\n",
       "<polygon fill=\"black\" stroke=\"black\" points=\"442.44,-272.75 452.44,-269.25 442.44,-265.75 442.44,-272.75\"/>\n",
       "</g>\n",
       "<!-- 2236070887040 -->\n",
       "<g id=\"node13\" class=\"node\">\n",
       "<title>2236070887040</title>\n",
       "<ellipse fill=\"none\" stroke=\"black\" cx=\"255.65\" cy=\"-269.25\" rx=\"31.9\" ry=\"18\"/>\n",
       "<text text-anchor=\"middle\" x=\"255.65\" y=\"-264.2\" font-family=\"Times New Roman,serif\" font-size=\"14.00\">[&#39;dot&#39;]</text>\n",
       "</g>\n",
       "<!-- 2236070887040&#45;&gt;2236071877648 -->\n",
       "<g id=\"edge12\" class=\"edge\">\n",
       "<title>2236070887040&#45;&gt;2236071877648</title>\n",
       "<path fill=\"none\" stroke=\"black\" d=\"M287.91,-269.25C296.1,-269.25 305.19,-269.25 314.25,-269.25\"/>\n",
       "<polygon fill=\"black\" stroke=\"black\" points=\"314.12,-272.75 324.12,-269.25 314.12,-265.75 314.12,-272.75\"/>\n",
       "</g>\n",
       "<!-- 2236070266336 -->\n",
       "<g id=\"node14\" class=\"node\">\n",
       "<title>2236070266336</title>\n",
       "<polygon fill=\"none\" stroke=\"black\" points=\"3,-279.5 3,-353 184.75,-353 184.75,-279.5 3,-279.5\"/>\n",
       "<text text-anchor=\"middle\" x=\"93.88\" y=\"-335.7\" font-family=\"Times New Roman,serif\" font-size=\"14.00\">W: L1, N0</text>\n",
       "<polyline fill=\"none\" stroke=\"black\" points=\"3,-328.5 184.75,-328.5\"/>\n",
       "<text text-anchor=\"middle\" x=\"93.88\" y=\"-311.2\" font-family=\"Times New Roman,serif\" font-size=\"14.00\">data: [10.1339 8.5676 0.8481]</text>\n",
       "<polyline fill=\"none\" stroke=\"black\" points=\"3,-304 184.75,-304\"/>\n",
       "<text text-anchor=\"middle\" x=\"93.88\" y=\"-286.7\" font-family=\"Times New Roman,serif\" font-size=\"14.00\">grad: [0.0000 0.0000 0.0000]</text>\n",
       "</g>\n",
       "<!-- 2236070266336&#45;&gt;2236070887040 -->\n",
       "<g id=\"edge13\" class=\"edge\">\n",
       "<title>2236070266336&#45;&gt;2236070887040</title>\n",
       "<path fill=\"none\" stroke=\"black\" d=\"M185.04,-289.73C195.81,-286.56 206.32,-283.47 215.78,-280.68\"/>\n",
       "<polygon fill=\"black\" stroke=\"black\" points=\"216.69,-284.06 225.3,-277.88 214.72,-277.35 216.69,-284.06\"/>\n",
       "</g>\n",
       "<!-- 2236071958512 -->\n",
       "<g id=\"node15\" class=\"node\">\n",
       "<title>2236071958512</title>\n",
       "<polygon fill=\"none\" stroke=\"black\" points=\"4.12,-186.5 4.12,-260 183.62,-260 183.62,-186.5 4.12,-186.5\"/>\n",
       "<text text-anchor=\"middle\" x=\"93.88\" y=\"-242.7\" font-family=\"Times New Roman,serif\" font-size=\"14.00\">I: L1</text>\n",
       "<polyline fill=\"none\" stroke=\"black\" points=\"4.12,-235.5 183.62,-235.5\"/>\n",
       "<text text-anchor=\"middle\" x=\"93.88\" y=\"-218.2\" font-family=\"Times New Roman,serif\" font-size=\"14.00\">data: [&#45;0.4671 3.1631 1.0000]</text>\n",
       "<polyline fill=\"none\" stroke=\"black\" points=\"4.12,-211 183.62,-211\"/>\n",
       "<text text-anchor=\"middle\" x=\"93.88\" y=\"-193.7\" font-family=\"Times New Roman,serif\" font-size=\"14.00\">grad: [0.0000 0.0000 0.0000]</text>\n",
       "</g>\n",
       "<!-- 2236071958512&#45;&gt;2236070887040 -->\n",
       "<g id=\"edge14\" class=\"edge\">\n",
       "<title>2236071958512&#45;&gt;2236070887040</title>\n",
       "<path fill=\"none\" stroke=\"black\" d=\"M184.11,-248.94C195.2,-252.13 206.06,-255.26 215.8,-258.06\"/>\n",
       "<polygon fill=\"black\" stroke=\"black\" points=\"214.63,-261.37 225.21,-260.77 216.57,-254.64 214.63,-261.37\"/>\n",
       "</g>\n",
       "<!-- 2236071883968 -->\n",
       "<g id=\"node19\" class=\"node\">\n",
       "<title>2236071883968</title>\n",
       "<ellipse fill=\"none\" stroke=\"black\" cx=\"255.65\" cy=\"-176.25\" rx=\"31.9\" ry=\"18\"/>\n",
       "<text text-anchor=\"middle\" x=\"255.65\" y=\"-171.2\" font-family=\"Times New Roman,serif\" font-size=\"14.00\">[&#39;dot&#39;]</text>\n",
       "</g>\n",
       "<!-- 2236071958512&#45;&gt;2236071883968 -->\n",
       "<g id=\"edge20\" class=\"edge\">\n",
       "<title>2236071958512&#45;&gt;2236071883968</title>\n",
       "<path fill=\"none\" stroke=\"black\" d=\"M184.11,-197C195.2,-193.74 206.06,-190.54 215.8,-187.68\"/>\n",
       "<polygon fill=\"black\" stroke=\"black\" points=\"216.6,-191.09 225.21,-184.91 214.63,-184.38 216.6,-191.09\"/>\n",
       "</g>\n",
       "<!-- 2236072008768 -->\n",
       "<g id=\"node24\" class=\"node\">\n",
       "<title>2236072008768</title>\n",
       "<ellipse fill=\"none\" stroke=\"black\" cx=\"255.65\" cy=\"-83.25\" rx=\"31.9\" ry=\"18\"/>\n",
       "<text text-anchor=\"middle\" x=\"255.65\" y=\"-78.2\" font-family=\"Times New Roman,serif\" font-size=\"14.00\">[&#39;dot&#39;]</text>\n",
       "</g>\n",
       "<!-- 2236071958512&#45;&gt;2236072008768 -->\n",
       "<g id=\"edge26\" class=\"edge\">\n",
       "<title>2236071958512&#45;&gt;2236072008768</title>\n",
       "<path fill=\"none\" stroke=\"black\" d=\"M174.59,-186.28C179.2,-183.12 183.63,-179.77 187.75,-176.25 209.5,-157.64 227.94,-130.56 239.91,-110.42\"/>\n",
       "<polygon fill=\"black\" stroke=\"black\" points=\"242.86,-112.32 244.82,-101.91 236.79,-108.83 242.86,-112.32\"/>\n",
       "</g>\n",
       "<!-- 2236071876592 -->\n",
       "<g id=\"node16\" class=\"node\">\n",
       "<title>2236071876592</title>\n",
       "<polygon fill=\"none\" stroke=\"black\" points=\"552.06,-139.5 552.06,-213 659.56,-213 659.56,-139.5 552.06,-139.5\"/>\n",
       "<text text-anchor=\"middle\" x=\"605.81\" y=\"-195.7\" font-family=\"Times New Roman,serif\" font-size=\"14.00\">S: L1, N1</text>\n",
       "<polyline fill=\"none\" stroke=\"black\" points=\"552.06,-188.5 659.56,-188.5\"/>\n",
       "<text text-anchor=\"middle\" x=\"605.81\" y=\"-171.2\" font-family=\"Times New Roman,serif\" font-size=\"14.00\">data: 6.1788e&#45;15</text>\n",
       "<polyline fill=\"none\" stroke=\"black\" points=\"552.06,-164 659.56,-164\"/>\n",
       "<text text-anchor=\"middle\" x=\"605.81\" y=\"-146.7\" font-family=\"Times New Roman,serif\" font-size=\"14.00\">grad: 0.0000</text>\n",
       "</g>\n",
       "<!-- 2236071876592&#45;&gt;2236072348736 -->\n",
       "<g id=\"edge15\" class=\"edge\">\n",
       "<title>2236071876592&#45;&gt;2236072348736</title>\n",
       "<path fill=\"none\" stroke=\"black\" d=\"M659.87,-176.25C667.89,-176.25 676.07,-176.25 683.84,-176.25\"/>\n",
       "<polygon fill=\"black\" stroke=\"black\" points=\"683.74,-179.75 693.74,-176.25 683.74,-172.75 683.74,-179.75\"/>\n",
       "</g>\n",
       "<!-- 2236071266496 -->\n",
       "<g id=\"node17\" class=\"node\">\n",
       "<title>2236071266496</title>\n",
       "<ellipse fill=\"none\" stroke=\"black\" cx=\"485.18\" cy=\"-176.25\" rx=\"30.88\" ry=\"18\"/>\n",
       "<text text-anchor=\"middle\" x=\"485.18\" y=\"-171.2\" font-family=\"Times New Roman,serif\" font-size=\"14.00\">[&#39;sig&#39;]</text>\n",
       "</g>\n",
       "<!-- 2236071266496&#45;&gt;2236071876592 -->\n",
       "<g id=\"edge16\" class=\"edge\">\n",
       "<title>2236071266496&#45;&gt;2236071876592</title>\n",
       "<path fill=\"none\" stroke=\"black\" d=\"M516.43,-176.25C523.79,-176.25 531.95,-176.25 540.24,-176.25\"/>\n",
       "<polygon fill=\"black\" stroke=\"black\" points=\"540.06,-179.75 550.06,-176.25 540.06,-172.75 540.06,-179.75\"/>\n",
       "</g>\n",
       "<!-- 2236071876928 -->\n",
       "<g id=\"node18\" class=\"node\">\n",
       "<title>2236071876928</title>\n",
       "<polygon fill=\"none\" stroke=\"black\" points=\"323.56,-139.5 323.56,-213 418.31,-213 418.31,-139.5 323.56,-139.5\"/>\n",
       "<text text-anchor=\"middle\" x=\"370.93\" y=\"-195.7\" font-family=\"Times New Roman,serif\" font-size=\"14.00\">D: L1, N1</text>\n",
       "<polyline fill=\"none\" stroke=\"black\" points=\"323.56,-188.5 418.31,-188.5\"/>\n",
       "<text text-anchor=\"middle\" x=\"370.93\" y=\"-171.2\" font-family=\"Times New Roman,serif\" font-size=\"14.00\">data: &#45;32.7176</text>\n",
       "<polyline fill=\"none\" stroke=\"black\" points=\"323.56,-164 418.31,-164\"/>\n",
       "<text text-anchor=\"middle\" x=\"370.93\" y=\"-146.7\" font-family=\"Times New Roman,serif\" font-size=\"14.00\">grad: 0.0000</text>\n",
       "</g>\n",
       "<!-- 2236071876928&#45;&gt;2236071266496 -->\n",
       "<g id=\"edge17\" class=\"edge\">\n",
       "<title>2236071876928&#45;&gt;2236071266496</title>\n",
       "<path fill=\"none\" stroke=\"black\" d=\"M418.56,-176.25C426.48,-176.25 434.66,-176.25 442.45,-176.25\"/>\n",
       "<polygon fill=\"black\" stroke=\"black\" points=\"442.36,-179.75 452.36,-176.25 442.36,-172.75 442.36,-179.75\"/>\n",
       "</g>\n",
       "<!-- 2236071883968&#45;&gt;2236071876928 -->\n",
       "<g id=\"edge18\" class=\"edge\">\n",
       "<title>2236071883968&#45;&gt;2236071876928</title>\n",
       "<path fill=\"none\" stroke=\"black\" d=\"M287.91,-176.25C295.3,-176.25 303.41,-176.25 311.57,-176.25\"/>\n",
       "<polygon fill=\"black\" stroke=\"black\" points=\"311.56,-179.75 321.56,-176.25 311.56,-172.75 311.56,-179.75\"/>\n",
       "</g>\n",
       "<!-- 2236070267056 -->\n",
       "<g id=\"node20\" class=\"node\">\n",
       "<title>2236070267056</title>\n",
       "<polygon fill=\"none\" stroke=\"black\" points=\"0,-93.5 0,-167 187.75,-167 187.75,-93.5 0,-93.5\"/>\n",
       "<text text-anchor=\"middle\" x=\"93.88\" y=\"-149.7\" font-family=\"Times New Roman,serif\" font-size=\"14.00\">W: L1, N1</text>\n",
       "<polyline fill=\"none\" stroke=\"black\" points=\"0,-142.5 187.75,-142.5\"/>\n",
       "<text text-anchor=\"middle\" x=\"93.88\" y=\"-125.2\" font-family=\"Times New Roman,serif\" font-size=\"14.00\">data: [ 0.4650 &#45;7.3185 &#45;9.3512]</text>\n",
       "<polyline fill=\"none\" stroke=\"black\" points=\"0,-118 187.75,-118\"/>\n",
       "<text text-anchor=\"middle\" x=\"93.88\" y=\"-100.7\" font-family=\"Times New Roman,serif\" font-size=\"14.00\">grad: [0.0000 0.0000 0.0000]</text>\n",
       "</g>\n",
       "<!-- 2236070267056&#45;&gt;2236071883968 -->\n",
       "<g id=\"edge19\" class=\"edge\">\n",
       "<title>2236070267056&#45;&gt;2236071883968</title>\n",
       "<path fill=\"none\" stroke=\"black\" d=\"M187.82,-157.01C197.65,-159.84 207.21,-162.59 215.89,-165.09\"/>\n",
       "<polygon fill=\"black\" stroke=\"black\" points=\"214.69,-168.39 225.27,-167.79 216.63,-161.66 214.69,-168.39\"/>\n",
       "</g>\n",
       "<!-- 2236071877360 -->\n",
       "<g id=\"node21\" class=\"node\">\n",
       "<title>2236071877360</title>\n",
       "<polygon fill=\"none\" stroke=\"black\" points=\"563.31,-46.5 563.31,-120 648.31,-120 648.31,-46.5 563.31,-46.5\"/>\n",
       "<text text-anchor=\"middle\" x=\"605.81\" y=\"-102.7\" font-family=\"Times New Roman,serif\" font-size=\"14.00\">S: L1, N2</text>\n",
       "<polyline fill=\"none\" stroke=\"black\" points=\"563.31,-95.5 648.31,-95.5\"/>\n",
       "<text text-anchor=\"middle\" x=\"605.81\" y=\"-78.2\" font-family=\"Times New Roman,serif\" font-size=\"14.00\">data: 0.9961</text>\n",
       "<polyline fill=\"none\" stroke=\"black\" points=\"563.31,-71 648.31,-71\"/>\n",
       "<text text-anchor=\"middle\" x=\"605.81\" y=\"-53.7\" font-family=\"Times New Roman,serif\" font-size=\"14.00\">grad: 0.0000</text>\n",
       "</g>\n",
       "<!-- 2236071877360&#45;&gt;2236072348736 -->\n",
       "<g id=\"edge21\" class=\"edge\">\n",
       "<title>2236071877360&#45;&gt;2236072348736</title>\n",
       "<path fill=\"none\" stroke=\"black\" d=\"M648.5,-115.52C665.34,-128.55 684.32,-143.23 699.39,-154.9\"/>\n",
       "<polygon fill=\"black\" stroke=\"black\" points=\"696.97,-157.45 707.02,-160.8 701.25,-151.92 696.97,-157.45\"/>\n",
       "</g>\n",
       "<!-- 2236072329152 -->\n",
       "<g id=\"node22\" class=\"node\">\n",
       "<title>2236072329152</title>\n",
       "<ellipse fill=\"none\" stroke=\"black\" cx=\"485.18\" cy=\"-83.25\" rx=\"30.88\" ry=\"18\"/>\n",
       "<text text-anchor=\"middle\" x=\"485.18\" y=\"-78.2\" font-family=\"Times New Roman,serif\" font-size=\"14.00\">[&#39;sig&#39;]</text>\n",
       "</g>\n",
       "<!-- 2236072329152&#45;&gt;2236071877360 -->\n",
       "<g id=\"edge22\" class=\"edge\">\n",
       "<title>2236072329152&#45;&gt;2236071877360</title>\n",
       "<path fill=\"none\" stroke=\"black\" d=\"M516.43,-83.25C527.14,-83.25 539.54,-83.25 551.6,-83.25\"/>\n",
       "<polygon fill=\"black\" stroke=\"black\" points=\"551.48,-86.75 561.48,-83.25 551.48,-79.75 551.48,-86.75\"/>\n",
       "</g>\n",
       "<!-- 2236071876784 -->\n",
       "<g id=\"node23\" class=\"node\">\n",
       "<title>2236071876784</title>\n",
       "<polygon fill=\"none\" stroke=\"black\" points=\"328.43,-46.5 328.43,-120 413.43,-120 413.43,-46.5 328.43,-46.5\"/>\n",
       "<text text-anchor=\"middle\" x=\"370.93\" y=\"-102.7\" font-family=\"Times New Roman,serif\" font-size=\"14.00\">D: L1, N2</text>\n",
       "<polyline fill=\"none\" stroke=\"black\" points=\"328.43,-95.5 413.43,-95.5\"/>\n",
       "<text text-anchor=\"middle\" x=\"370.93\" y=\"-78.2\" font-family=\"Times New Roman,serif\" font-size=\"14.00\">data: 5.5344</text>\n",
       "<polyline fill=\"none\" stroke=\"black\" points=\"328.43,-71 413.43,-71\"/>\n",
       "<text text-anchor=\"middle\" x=\"370.93\" y=\"-53.7\" font-family=\"Times New Roman,serif\" font-size=\"14.00\">grad: 0.0000</text>\n",
       "</g>\n",
       "<!-- 2236071876784&#45;&gt;2236072329152 -->\n",
       "<g id=\"edge23\" class=\"edge\">\n",
       "<title>2236071876784&#45;&gt;2236072329152</title>\n",
       "<path fill=\"none\" stroke=\"black\" d=\"M413.73,-83.25C423.11,-83.25 433.06,-83.25 442.44,-83.25\"/>\n",
       "<polygon fill=\"black\" stroke=\"black\" points=\"442.41,-86.75 452.41,-83.25 442.41,-79.75 442.41,-86.75\"/>\n",
       "</g>\n",
       "<!-- 2236072008768&#45;&gt;2236071876784 -->\n",
       "<g id=\"edge24\" class=\"edge\">\n",
       "<title>2236072008768&#45;&gt;2236071876784</title>\n",
       "<path fill=\"none\" stroke=\"black\" d=\"M287.91,-83.25C296.85,-83.25 306.86,-83.25 316.73,-83.25\"/>\n",
       "<polygon fill=\"black\" stroke=\"black\" points=\"316.66,-86.75 326.66,-83.25 316.66,-79.75 316.66,-86.75\"/>\n",
       "</g>\n",
       "<!-- 2236070446032 -->\n",
       "<g id=\"node25\" class=\"node\">\n",
       "<title>2236070446032</title>\n",
       "<polygon fill=\"none\" stroke=\"black\" points=\"5.62,-0.5 5.62,-74 182.12,-74 182.12,-0.5 5.62,-0.5\"/>\n",
       "<text text-anchor=\"middle\" x=\"93.88\" y=\"-56.7\" font-family=\"Times New Roman,serif\" font-size=\"14.00\">W: L1, N2</text>\n",
       "<polyline fill=\"none\" stroke=\"black\" points=\"5.62,-49.5 182.12,-49.5\"/>\n",
       "<text text-anchor=\"middle\" x=\"93.88\" y=\"-32.2\" font-family=\"Times New Roman,serif\" font-size=\"14.00\">data: [8.9742 0.0378 9.6070]</text>\n",
       "<polyline fill=\"none\" stroke=\"black\" points=\"5.62,-25 182.12,-25\"/>\n",
       "<text text-anchor=\"middle\" x=\"93.88\" y=\"-7.7\" font-family=\"Times New Roman,serif\" font-size=\"14.00\">grad: [0.0000 0.0000 0.0000]</text>\n",
       "</g>\n",
       "<!-- 2236070446032&#45;&gt;2236072008768 -->\n",
       "<g id=\"edge25\" class=\"edge\">\n",
       "<title>2236070446032&#45;&gt;2236072008768</title>\n",
       "<path fill=\"none\" stroke=\"black\" d=\"M182.24,-62.4C193.99,-65.79 205.53,-69.11 215.82,-72.07\"/>\n",
       "<polygon fill=\"black\" stroke=\"black\" points=\"214.81,-75.42 225.39,-74.83 216.75,-68.7 214.81,-75.42\"/>\n",
       "</g>\n",
       "</g>\n",
       "</svg>\n"
      ],
      "text/plain": [
       "<graphviz.graphs.Digraph at 0x208a04cc9a0>"
      ]
     },
     "execution_count": 12,
     "metadata": {},
     "output_type": "execute_result"
    }
   ],
   "source": [
    "model.draw()"
   ]
  },
  {
   "cell_type": "code",
   "execution_count": 13,
   "metadata": {},
   "outputs": [
    {
     "data": {
      "text/plain": [
       "array([[10.13386302,  8.56758055,  0.84814919],\n",
       "       [ 0.46498658, -7.31849539, -9.35117843],\n",
       "       [ 8.97422664,  0.03782033,  9.60702517]])"
      ]
     },
     "execution_count": 13,
     "metadata": {},
     "output_type": "execute_result"
    }
   ],
   "source": [
    "w1=model.layers[1].get_weights()\n",
    "w1"
   ]
  },
  {
   "cell_type": "markdown",
   "metadata": {},
   "source": [
    "#### Visualising the desicion boundries created by the network"
   ]
  },
  {
   "cell_type": "code",
   "execution_count": 14,
   "metadata": {},
   "outputs": [
    {
     "data": {
      "image/png": "[encoded data removed]",
      "text/plain": [
       "<Figure size 640x480 with 1 Axes>"
      ]
     },
     "metadata": {},
     "output_type": "display_data"
    }
   ],
   "source": [
    "Xp=np.arange(-1.5,1.5,.1, dtype=float)\n",
    "Xp1=np.arange(-.5,.5,.01, dtype=float)\n",
    "\n",
    "Y0= -(Xp*w1[0][0])/w1[0][1]-(w1[0][2]/w1[0][1])\n",
    "Y1= -(Xp*w1[1][0])/w1[1][1]-(w1[1][2]/w1[1][1])\n",
    "Y2= -(Xp*w1[2][0])/w1[2][1]-(w1[2][2]/w1[2][1])\n",
    "Xn2=np.array(Xn) # Xn is a tensor while Xn2 is a numpy array, this conversion is important\n",
    "plt.scatter(Xn2[Y[:,0]==1,0], Xn2[Y[:,0]==1,1], marker='X', color='b', linewidths=.1, s=50)\n",
    "plt.scatter(Xn2[Y[:,0]==0,0], Xn2[Y[:,0]==0,1], marker='o', color='r', linewidths=.1, s=50)\n",
    "plt.plot(Xp,Y0)\n",
    "plt.plot(Xp,Y1)\n",
    "plt.plot(Xp, Y2)\n",
    "plt.xlabel('Temprature')\n",
    "plt.ylabel('Duration')\n",
    "plt.xlim(-1.7,1.7)\n",
    "plt.ylim(-2.2,2.2)\n",
    "plt.show()"
   ]
  },
  {
   "cell_type": "code",
   "execution_count": 15,
   "metadata": {},
   "outputs": [
    {
     "data": {
      "text/plain": [
       "1.0"
      ]
     },
     "execution_count": 15,
     "metadata": {},
     "output_type": "execute_result"
    }
   ],
   "source": [
    "model.score(Xt, Yt)"
   ]
  }
 ],
 "metadata": {
  "kernelspec": {
   "display_name": "Python 3",
   "language": "python",
   "name": "python3"
  },
  "language_info": {
   "codemirror_mode": {
    "name": "ipython",
    "version": 3
   },
   "file_extension": ".py",
   "mimetype": "text/x-python",
   "name": "python",
   "nbconvert_exporter": "python",
   "pygments_lexer": "ipython3",
   "version": "3.9.13"
  }
 },
 "nbformat": 4,
 "nbformat_minor": 2
}
